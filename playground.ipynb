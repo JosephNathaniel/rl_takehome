{
 "cells": [
  {
   "cell_type": "code",
   "execution_count": 2,
   "id": "27c595b7",
   "metadata": {},
   "outputs": [],
   "source": [
    "from evaluator import GSM8kEvaluator\n",
    "import re"
   ]
  },
  {
   "cell_type": "code",
   "execution_count": 3,
   "id": "cbb9b327",
   "metadata": {},
   "outputs": [],
   "source": [
    "evaluator = GSM8kEvaluator()"
   ]
  },
  {
   "cell_type": "code",
   "execution_count": 17,
   "id": "a13ac186",
   "metadata": {},
   "outputs": [],
   "source": [
    "completion: str = '<reasoning>\\nWeng earns $12 an hour for babysitting, and there are 60 minutes in an hour. \\nShe just did 50 minutes of babysitting. \\nTo calculate her earnings, we can divide the total time she worked by the average rate per hour: 50 minutes / $12/ hour = 4.1667 hours.\\nSince she earns $12 an hour, to find her earnings for the 4.1667 hours, we multiply the number of hours by her hourly rate: 4.1667 hours * $12/hour = $49.996.\\nSo, Weng earned $49.996 yesterday.\\n</reasoning>\\n<answer>\\nWeng earned $49.996 from babysitting yesterday.'"
   ]
  },
  {
   "cell_type": "code",
   "execution_count": 18,
   "id": "6d536b85",
   "metadata": {},
   "outputs": [],
   "source": [
    "formatted_completions = [[{\"content\": completion}]]"
   ]
  },
  {
   "cell_type": "code",
   "execution_count": 24,
   "id": "8c32312b",
   "metadata": {},
   "outputs": [
    {
     "data": {
      "text/plain": [
       "[-0.15500000000000003]"
      ]
     },
     "execution_count": 24,
     "metadata": {},
     "output_type": "execute_result"
    }
   ],
   "source": [
    "# Format the completion in the expected structure\n",
    "evaluator._xml_count_reward(formatted_completions)"
   ]
  },
  {
   "cell_type": "code",
   "execution_count": 25,
   "id": "77396abc",
   "metadata": {},
   "outputs": [
    {
     "data": {
      "text/plain": [
       "[0.0]"
      ]
     },
     "execution_count": 25,
     "metadata": {},
     "output_type": "execute_result"
    }
   ],
   "source": [
    "# try other ones\n",
    "evaluator._soft_format_reward(formatted_completions)"
   ]
  },
  {
   "cell_type": "code",
   "execution_count": 20,
   "id": "e200f07d",
   "metadata": {},
   "outputs": [],
   "source": [
    "# modified completion\n",
    "modified_completion: str = '<reasoning>\\nWeng earns $12 an hour for babysitting, and there are 60 minutes in an hour. \\nShe just did 50 minutes of babysitting. \\nTo calculate her earnings, we can divide the total time she worked by the average rate per hour: 50 minutes / $12/ hour = 4.1667 hours.\\nSince she earns $12 an hour, to find her earnings for the 4.1667 hours, we multiply the number of hours by her hourly rate: 4.1667 hours * $12/hour = $49.996.\\nSo, Weng earned $49.996 yesterday.\\n</reasoning>\\n<answer>\\nWeng earned $49.996 from babysitting yesterday.\\n</answer>\\n'\n",
    "formatted_modified_completions = [[{\"content\": modified_completion}]]"
   ]
  },
  {
   "cell_type": "code",
   "execution_count": 22,
   "id": "78b572af",
   "metadata": {},
   "outputs": [
    {
     "data": {
      "text/plain": [
       "[0.5]"
      ]
     },
     "execution_count": 22,
     "metadata": {},
     "output_type": "execute_result"
    }
   ],
   "source": [
    "# Format the completion in the expected structure\n",
    "evaluator._xml_count_reward(formatted_modified_completions)"
   ]
  },
  {
   "cell_type": "code",
   "execution_count": 23,
   "id": "6921568d",
   "metadata": {},
   "outputs": [
    {
     "data": {
      "text/plain": [
       "[0.0]"
      ]
     },
     "execution_count": 23,
     "metadata": {},
     "output_type": "execute_result"
    }
   ],
   "source": [
    "evaluator._soft_format_reward(formatted_modified_completions)"
   ]
  },
  {
   "cell_type": "code",
   "execution_count": 26,
   "id": "a3b92c40",
   "metadata": {},
   "outputs": [
    {
     "data": {
      "text/plain": [
       "[0.0]"
      ]
     },
     "execution_count": 26,
     "metadata": {},
     "output_type": "execute_result"
    }
   ],
   "source": [
    "evaluator._strict_format_reward(formatted_modified_completions)"
   ]
  },
  {
   "cell_type": "markdown",
   "id": "7d88ae16",
   "metadata": {},
   "source": [
    "Still fails -- due to newlines!"
   ]
  },
  {
   "cell_type": "code",
   "execution_count": 35,
   "id": "00993a96",
   "metadata": {},
   "outputs": [],
   "source": [
    "SYSTEM_PROMPT = \"\"\"\n",
    "Respond in the following format:\n",
    "<reasoning>\n",
    "...\n",
    "</reasoning>\n",
    "<answer>\n",
    "...\n",
    "</answer>\n",
    "\"\"\""
   ]
  },
  {
   "cell_type": "code",
   "execution_count": 36,
   "id": "2fa29159",
   "metadata": {},
   "outputs": [
    {
     "data": {
      "text/plain": [
       "'\\nRespond in the following format:\\n<reasoning>\\n...\\n</reasoning>\\n<answer>\\n...\\n</answer>\\n'"
      ]
     },
     "execution_count": 36,
     "metadata": {},
     "output_type": "execute_result"
    }
   ],
   "source": [
    "SYSTEM_PROMPT"
   ]
  },
  {
   "cell_type": "code",
   "execution_count": 34,
   "id": "a44239dc",
   "metadata": {},
   "outputs": [],
   "source": [
    "# Try relaxed versions allowing newlines!\n",
    "def new_strict_format_reward(completions) -> list[float]:\n",
    "    \"\"\"Reward for strict XML format.\"\"\"\n",
    "    pattern = r\"^<reasoning>\\n.*?\\n</reasoning>\\n<answer>\\n.*?\\n</answer>\\n$\"\n",
    "    responses = [completion[0][\"content\"] for completion in completions]\n",
    "    matches = [bool(re.match(pattern, r, flags=re.DOTALL)) for r in responses]\n",
    "    return [0.5 if m else 0.0 for m in matches]\n",
    "\n",
    "\n",
    "\n",
    "def new_soft_format_reward(completions) -> list[float]:\n",
    "    \"\"\"Reward for relaxed XML format.\"\"\"\n",
    "    pattern = r\"<reasoning>.*?</reasoning>\\s*<answer>.*?</answer>\"\n",
    "    responses = [completion[0][\"content\"] for completion in completions]\n",
    "    matches = [bool(re.search(pattern, r, flags=re.DOTALL)) for r in responses]\n",
    "    return [0.5 if m else 0.0 for m in matches]\n",
    "\n"
   ]
  },
  {
   "cell_type": "code",
   "execution_count": 37,
   "id": "f46d878f",
   "metadata": {},
   "outputs": [
    {
     "data": {
      "text/plain": [
       "[0.5]"
      ]
     },
     "execution_count": 37,
     "metadata": {},
     "output_type": "execute_result"
    }
   ],
   "source": [
    "new_soft_format_reward(formatted_modified_completions)"
   ]
  },
  {
   "cell_type": "code",
   "execution_count": 38,
   "id": "f21a6e90",
   "metadata": {},
   "outputs": [
    {
     "data": {
      "text/plain": [
       "[0.5]"
      ]
     },
     "execution_count": 38,
     "metadata": {},
     "output_type": "execute_result"
    }
   ],
   "source": [
    "new_strict_format_reward(formatted_modified_completions)"
   ]
  },
  {
   "cell_type": "code",
   "execution_count": null,
   "id": "c1a90dfb",
   "metadata": {},
   "outputs": [],
   "source": []
  },
  {
   "cell_type": "markdown",
   "id": "7d556e6e",
   "metadata": {},
   "source": [
    "Test the new extractor on ints"
   ]
  },
  {
   "cell_type": "code",
   "execution_count": 3,
   "id": "1e351ce1",
   "metadata": {},
   "outputs": [
    {
     "data": {
      "text/plain": [
       "[[{'content': ' 5'}]]"
      ]
     },
     "execution_count": 3,
     "metadata": {},
     "output_type": "execute_result"
    }
   ],
   "source": [
    "[[{\"content\": \" 5\"}]]"
   ]
  },
  {
   "cell_type": "code",
   "execution_count": 4,
   "id": "da4e39a7",
   "metadata": {},
   "outputs": [
    {
     "data": {
      "text/plain": [
       "[0.0]"
      ]
     },
     "execution_count": 4,
     "metadata": {},
     "output_type": "execute_result"
    }
   ],
   "source": [
    "evaluator._int_format_reward([[{\"content\": \" 5\"}]])"
   ]
  },
  {
   "cell_type": "code",
   "execution_count": 5,
   "id": "bdc12845",
   "metadata": {},
   "outputs": [
    {
     "data": {
      "text/plain": [
       "[0.0]"
      ]
     },
     "execution_count": 5,
     "metadata": {},
     "output_type": "execute_result"
    }
   ],
   "source": [
    "evaluator._correctness_reward(None, [[{\"content\": \" 5\"}]], '5')"
   ]
  },
  {
   "cell_type": "code",
   "execution_count": null,
   "id": "772d3e8a",
   "metadata": {},
   "outputs": [],
   "source": [
    "evaluator._int_format_reward([[{\"content\": \" 5\"}]])"
   ]
  },
  {
   "cell_type": "markdown",
   "id": "f17c574a",
   "metadata": {},
   "source": [
    "An example to investigate"
   ]
  },
  {
   "cell_type": "code",
   "execution_count": 1,
   "id": "3ed8518d",
   "metadata": {},
   "outputs": [],
   "source": [
    "completion = \"<reasoning>\\nTo find out how long Tony takes to assemble a widget, we need to first determine how many widgets are made in a 8-hour shift, which equals to 48 minutes.\\n\\nSam and Jack together can assemble 2 widgets every 15 minutes, so in 6 hours (48 minutes), they can assemble:\\n\\n2 * (6/15 * 48) = 8 * 48 = 384 widgets.\\n\\nThey work together for 4 hours (48 minutes), so in these 4 hours they can assemble:\\n\\n2 * (4/15 * 48) = 8 * 48 = 384 widgets.\\n\\nTogether, Sam and Jack together can assemble 384 widgets in 8 hours.\\n\\nSo, the time it takes for Jack to assemble 2 widgets (equivalent to the 384 widgets made by Sam in 4 hours) can be found by:\\n\\n384 * 15 minutes (as it's 15 minutes per widget), or:\\n\\n384 * 45 minutes (as it's 8 hours divided by 6 hours: 45 minutes per widget).\\n\\nTo find out how long it takes Tony to assemble 1 widget (which equals to 5 minutes), we first find out how many widgets are made by the time he finishes assembling 1 widget:\\n\\n(8/15 * 45) widgets = 12 widgets (as 8 hours is 45 minutes divided by 15 minutes per hour).\\n\\nSo, the time it takes for Tony to assemble one widget, which is 5 minutes, would be:\\n\\n12 * 5 minutes = 60 minutes.\\n\\nTherefore, Tony takes 60 minutes to assemble a widget.\\n</reasoning>\\n<answer>\\nTony takes 60 minutes to assemble a widget.\\n</answer>\""
   ]
  },
  {
   "cell_type": "code",
   "execution_count": 4,
   "id": "e3e9356d",
   "metadata": {},
   "outputs": [
    {
     "data": {
      "text/plain": [
       "[0.5]"
      ]
     },
     "execution_count": 4,
     "metadata": {},
     "output_type": "execute_result"
    }
   ],
   "source": [
    "evaluator._soft_format_reward([[{\"content\": completion}]])"
   ]
  },
  {
   "cell_type": "code",
   "execution_count": 5,
   "id": "a79f4ac3",
   "metadata": {},
   "outputs": [
    {
     "data": {
      "text/plain": [
       "[0.0]"
      ]
     },
     "execution_count": 5,
     "metadata": {},
     "output_type": "execute_result"
    }
   ],
   "source": [
    "evaluator._strict_format_reward([[{\"content\": completion}]])"
   ]
  },
  {
   "cell_type": "code",
   "execution_count": 6,
   "id": "c5804633",
   "metadata": {},
   "outputs": [
    {
     "data": {
      "text/plain": [
       "[0.5]"
      ]
     },
     "execution_count": 6,
     "metadata": {},
     "output_type": "execute_result"
    }
   ],
   "source": [
    "evaluator._soft_format_reward([[{\"content\": completion+ \"\\n\"}]])"
   ]
  },
  {
   "cell_type": "code",
   "execution_count": null,
   "id": "60c7b461",
   "metadata": {},
   "outputs": [],
   "source": []
  }
 ],
 "metadata": {
  "kernelspec": {
   "display_name": "main",
   "language": "python",
   "name": "python3"
  },
  "language_info": {
   "codemirror_mode": {
    "name": "ipython",
    "version": 3
   },
   "file_extension": ".py",
   "mimetype": "text/x-python",
   "name": "python",
   "nbconvert_exporter": "python",
   "pygments_lexer": "ipython3",
   "version": "3.12.11"
  }
 },
 "nbformat": 4,
 "nbformat_minor": 5
}
